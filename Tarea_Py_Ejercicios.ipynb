{
 "cells": [
  {
   "cell_type": "markdown",
   "id": "b7a3b758-2485-4a2a-bcaf-f0dc216f382f",
   "metadata": {},
   "source": [
    "# Tarea Python\n"
   ]
  },
  {
   "cell_type": "markdown",
   "id": "6c8bc5a0-6f59-48ec-8c1b-ee5a3c57e1b1",
   "metadata": {},
   "source": [
    "## Ejercicios `py_01.ipynb`"
   ]
  },
  {
   "cell_type": "markdown",
   "id": "e4bdb81a-258b-41b6-bd1c-a6bc89f552b4",
   "metadata": {},
   "source": [
    "**1. Ejercicio:**\n",
    "\n",
    "Escriba un codigo que le diga a Python que de vuelva el texto:"
   ]
  },
  {
   "cell_type": "markdown",
   "id": "f4d8c313-d883-4b6c-a29e-ecb88d9b5740",
   "metadata": {},
   "source": [
    "*Sólo sé que ...*\n",
    "\n",
    "*... que nada sé.*"
   ]
  },
  {
   "cell_type": "markdown",
   "id": "049c1724-ddcb-49d3-825f-06fb5bd92946",
   "metadata": {},
   "source": [
    "**Solución**"
   ]
  },
  {
   "cell_type": "code",
   "execution_count": 5,
   "id": "91886bb7-d82d-4b5b-8dff-6888cf1ffdf1",
   "metadata": {},
   "outputs": [
    {
     "name": "stdout",
     "output_type": "stream",
     "text": [
      "...Sólo sé que... \n",
      " ... que nada sé\n"
     ]
    }
   ],
   "source": [
    "print(\"...Sólo sé que... \\n ... que nada sé.\")"
   ]
  },
  {
   "cell_type": "markdown",
   "id": "14f0c1c2-462d-43ff-a7dc-0af35b43879e",
   "metadata": {},
   "source": [
    "**2. Ejercicio:**\n",
    "\n",
    "Escriba un código que le diga a Python que devuelva los textos **Tengo** *my_age* **años**, donde *my_age* es una variable que tenga asignada su edad."
   ]
  },
  {
   "cell_type": "markdown",
   "id": "0dbc467f-a907-4509-b08d-453edb65b2af",
   "metadata": {},
   "source": [
    "**Solución**"
   ]
  },
  {
   "cell_type": "code",
   "execution_count": 7,
   "id": "f43c6546-44a4-4088-a0c5-592d19d35a1f",
   "metadata": {},
   "outputs": [
    {
     "name": "stdout",
     "output_type": "stream",
     "text": [
      "Tengo 27 años\n"
     ]
    }
   ],
   "source": [
    "my_age = 27\n",
    "print(\"Tengo\",my_age,\"años\")"
   ]
  },
  {
   "cell_type": "markdown",
   "id": "7c625331-30d7-40c6-8b11-b141b7ade882",
   "metadata": {},
   "source": [
    "## Ejercicios `py_02.ipynb`"
   ]
  },
  {
   "cell_type": "markdown",
   "id": "f830625f-96ff-487e-9d4d-c7819a096ae4",
   "metadata": {},
   "source": [
    "**1. Ejercicio:**\n",
    "\n",
    "Explique qué hace el siguiente código"
   ]
  },
  {
   "cell_type": "code",
   "execution_count": 8,
   "id": "cee8082b-5663-4e6b-81fa-6995366fb0b3",
   "metadata": {},
   "outputs": [
    {
     "name": "stdout",
     "output_type": "stream",
     "text": [
      "3 10\n"
     ]
    }
   ],
   "source": [
    "x, y = 3, 10\n",
    "\n",
    "y, x = x, y\n",
    "\n",
    "print(y,x)"
   ]
  },
  {
   "cell_type": "markdown",
   "id": "3540f8db-9115-4c52-adcd-30567546f675",
   "metadata": {},
   "source": [
    "**Solución**"
   ]
  },
  {
   "cell_type": "markdown",
   "id": "5e9a2805-cea8-4ed2-b9bd-a96a9f36f893",
   "metadata": {},
   "source": [
    "La primera línea de codigo asigna a la variable **x** el número 3 y a la variable **y** el número 10. La segunda línea de codigo realiza una nueva asignación, a la variable **y** le asigna el valor de la variable**x**, es decir, a la variable **y** se le asigno el número 3. Analogamente, a la variable **x** se le asigna el valor de la variable**y**, es decir, a la variable **x** se le asigno el número 10. En la tercera línea se impromen los valores de las variables **y** y **x**.\n"
   ]
  },
  {
   "cell_type": "markdown",
   "id": "78425033-4aa8-44b9-b801-999a24bd0619",
   "metadata": {},
   "source": [
    "**2. Ejercicio:**\n",
    "\n",
    "Explique qué hace el siguiente código"
   ]
  },
  {
   "cell_type": "code",
   "execution_count": null,
   "id": "6ef233c4-683a-4b28-8d75-6d5b8fea791f",
   "metadata": {},
   "outputs": [],
   "source": [
    "w = 1\n",
    "del w\n",
    "print(w)"
   ]
  },
  {
   "cell_type": "markdown",
   "id": "ad96c382-d8d9-4ead-b9e2-b8ca1aaa90bf",
   "metadata": {},
   "source": [
    "**Solución**"
   ]
  },
  {
   "cell_type": "markdown",
   "id": "cc3faf08-9415-49fd-9431-32d7b2567a12",
   "metadata": {},
   "source": [
    "Se le asigna a la variable **w** el número 1, luego se elimina la variable con el comando `del`, al imprimir **w**  arroja un error que nos dice que **w** no está definida."
   ]
  },
  {
   "cell_type": "markdown",
   "id": "5ab99700-a579-4e22-b4f6-87b6d0614725",
   "metadata": {},
   "source": [
    "## Ejercicios `py_03.ipynb`"
   ]
  },
  {
   "cell_type": "markdown",
   "id": "a09f25ac-3a40-49a6-aebd-297aeb71851a",
   "metadata": {},
   "source": [
    "**1. Ejercicio:**\n",
    "\n",
    "Verifique que entiende que hace el siguiente código. ¿Cuál es la salida?"
   ]
  },
  {
   "cell_type": "code",
   "execution_count": null,
   "id": "6997a3c3-ddfb-4221-823a-26b388609b8a",
   "metadata": {
    "tags": []
   },
   "outputs": [],
   "source": [
    "edad = 15\n",
    "status = None\n",
    "\n",
    "if (edad >12) and (edad<20):\n",
    "    status = 'adolecente'\n",
    "else:\n",
    "    status = 'no adolecente'\n",
    "\n",
    "print('status =', status)"
   ]
  },
  {
   "cell_type": "markdown",
   "id": "9066a53c-f3f5-4d1f-8584-6ff75b6fb726",
   "metadata": {},
   "source": [
    "**Solución**"
   ]
  },
  {
   "cell_type": "markdown",
   "id": "afe3d479-8ed4-4142-a99d-bf3e3f83421c",
   "metadata": {
    "tags": []
   },
   "source": [
    "En la primera línea de codigo se le asigna a la variable **edad** el número 15, en la segunda línea se crea la\n",
    "variable **status** pero no se le asigna un valor especifico. En la tercera linea de codigo se declara la estructura de control `if` cuya condición es una conjunción, la cual afirma que si la variable **edad** es mayor que 12 y menor que 20, entonces a la variable **status** se le asigna la palabra 'adolecente', sino se cumple la condición se le asigna la frase 'no adolecente'. Al final se imprime una la cadena de caracteres 'status =' y el valor de la variable **status**, es decir, se imprime: `status = 'adolecente`."
   ]
  },
  {
   "cell_type": "markdown",
   "id": "041ea6f4-e006-4ca0-8d35-48298cf9c330",
   "metadata": {},
   "source": [
    "**2. Ejercicio:**\n",
    "\n",
    "Use la función `round` para redondear el número $\\pi$ 5 cifras decimales"
   ]
  },
  {
   "cell_type": "markdown",
   "id": "6b8fc344-915d-4f0c-9103-694c7258187b",
   "metadata": {},
   "source": [
    "**Solución**"
   ]
  },
  {
   "cell_type": "code",
   "execution_count": 23,
   "id": "149a3935-0191-44f1-af35-4b0b61ecad21",
   "metadata": {},
   "outputs": [
    {
     "name": "stdout",
     "output_type": "stream",
     "text": [
      "3.141592653589793\n",
      "3.14159\n"
     ]
    }
   ],
   "source": [
    "from math import pi\n",
    "\n",
    "# visualizar pi\n",
    "print(pi)\n",
    "\n",
    "# redondeando\n",
    "print(round(pi,5))"
   ]
  },
  {
   "cell_type": "markdown",
   "id": "c583040e-2fef-41d3-92a9-f3992b652d98",
   "metadata": {},
   "source": [
    "## Ejercicios `py_04.ipynb`"
   ]
  },
  {
   "cell_type": "markdown",
   "id": "9620bf02-aaac-43d9-8a72-0a76b073e9c0",
   "metadata": {},
   "source": [
    "**1. Ejercicio:**\n",
    "\n",
    "¿Qué hace el parámetro end en el print del siguiente codigo? "
   ]
  },
  {
   "cell_type": "code",
   "execution_count": 25,
   "id": "b23fdcca-8e60-4cd7-a93f-7eb2e5929422",
   "metadata": {},
   "outputs": [
    {
     "name": "stdout",
     "output_type": "stream",
     "text": [
      "¡Empezando!\n",
      "0  1  2  3  4  5  6  7  8  9  \n",
      "¡Hecho!\n"
     ]
    }
   ],
   "source": [
    "contador = 0\n",
    "\n",
    "print('¡Empezando!')\n",
    "while contador < 10:\n",
    "    #Instrucciones ejecutables\n",
    "    print(contador,' ', end='')\n",
    "    contador = contador + 1\n",
    "    \n",
    "print()\n",
    "print('¡Hecho!')"
   ]
  },
  {
   "cell_type": "markdown",
   "id": "20229877-6b37-46b5-9f76-22efe0b3a328",
   "metadata": {},
   "source": [
    "**Solución**"
   ]
  },
  {
   "cell_type": "markdown",
   "id": "e996dd0a-a561-4ba0-bc21-4604796bbfd9",
   "metadata": {},
   "source": [
    "Muestra el print en una única línea."
   ]
  },
  {
   "cell_type": "markdown",
   "id": "08853d59-7de6-4e13-a6c1-5ce872805a56",
   "metadata": {},
   "source": [
    "**2. Ejercicio:**\n",
    "\n",
    "1. Discuta Cuál es la diferencia entre la estructuras `while` y `for`.\n",
    "2. Reescriba los dos ejemplos cambiado de `while` a `for` y viceversa, según el caso."
   ]
  },
  {
   "cell_type": "markdown",
   "id": "4390fb60-9bc6-44d6-aad7-2b871c28f69b",
   "metadata": {},
   "source": [
    "**Ejemplo 1**"
   ]
  },
  {
   "cell_type": "code",
   "execution_count": 28,
   "id": "1729d170-f4ca-4e5c-9548-6156a74affe9",
   "metadata": {},
   "outputs": [
    {
     "name": "stdout",
     "output_type": "stream",
     "text": [
      "¡Empezando!\n",
      "0  1  2  3  4  5  6  7  8  9  \n",
      "¡Hecho!\n"
     ]
    }
   ],
   "source": [
    "contador = 0\n",
    "\n",
    "print('¡Empezando!')\n",
    "while contador < 10:\n",
    "    #Instrucciones ejecutables\n",
    "    print(contador,' ', end='')\n",
    "    contador = contador + 1\n",
    "    \n",
    "print()\n",
    "print('¡Hecho!')"
   ]
  },
  {
   "cell_type": "markdown",
   "id": "3d75493f-e58d-47af-ad0a-7407ae451ec6",
   "metadata": {},
   "source": [
    "**Ejemplo 2**"
   ]
  },
  {
   "cell_type": "code",
   "execution_count": 30,
   "id": "9dfe2732-95a2-4456-b381-f726b32ee015",
   "metadata": {},
   "outputs": [
    {
     "name": "stdout",
     "output_type": "stream",
     "text": [
      "\n",
      "Inicio:\n",
      "0  1  2  3  4  5  6  7  8  9  10  11  12  13  14  15  16  17  18  19  \n",
      "Hecho.\n"
     ]
    }
   ],
   "source": [
    "print('\\nInicio:')\n",
    "for i in range(20):\n",
    "    # Instrucciones útiles\n",
    "    print(i, ' ', end='')\n",
    "\n",
    "print('\\nHecho.')"
   ]
  },
  {
   "cell_type": "markdown",
   "id": "eb97f7b5-65eb-4485-a7d7-191719dfc571",
   "metadata": {},
   "source": [
    "**Solución 1**"
   ]
  },
  {
   "cell_type": "markdown",
   "id": "7348f246-e6db-4ceb-9e83-bf3c3ddcf6ea",
   "metadata": {},
   "source": [
    "Los dos son estructuras de control se usan para los casos en los cuales es necesario correr un proceso \n",
    "varias veces en forma continua. En el ciclo `while`se evalúa una condición. Si la condición es verdadera se ejecuta de nuevo el ciclo. Mientras que en el ciclo `for` se usa una variable de salto que va recorriendo un conjunto de valores hasta terminar la instrucción. "
   ]
  },
  {
   "cell_type": "markdown",
   "id": "9bd7573c-ff55-486a-bc54-70c090e09d48",
   "metadata": {},
   "source": [
    "**Solución 2**"
   ]
  },
  {
   "cell_type": "code",
   "execution_count": 40,
   "id": "e00b5123-c5a4-4b63-a9ec-b4cd9d1cdfe9",
   "metadata": {},
   "outputs": [
    {
     "name": "stdout",
     "output_type": "stream",
     "text": [
      "¡Empezando!\n",
      "0  1  2  3  4  5  6  7  8  9  \n",
      "¡Hecho!\n"
     ]
    }
   ],
   "source": [
    "print('¡Empezando!')\n",
    "for i in range(10):\n",
    "    print(i,\" \",end=\"\")\n",
    "    \n",
    "print('\\n¡Hecho!')"
   ]
  },
  {
   "cell_type": "code",
   "execution_count": 41,
   "id": "8f8a4ce8-5a6b-4682-91e1-c5b75e22c71e",
   "metadata": {
    "tags": []
   },
   "outputs": [
    {
     "name": "stdout",
     "output_type": "stream",
     "text": [
      "\n",
      "Inicio:\n",
      "0  1  2  3  4  5  6  7  8  9  10  11  12  13  14  15  16  17  18  19  \n",
      "¡Hecho!\n"
     ]
    }
   ],
   "source": [
    "con = 0\n",
    "\n",
    "print('\\nInicio:')\n",
    "while con < 20:\n",
    "    print(con,\" \",end=\"\")\n",
    "    con = con +1\n",
    "\n",
    "print()\n",
    "print('¡Hecho!')"
   ]
  }
 ],
 "metadata": {
  "kernelspec": {
   "display_name": "Python 3 (ipykernel)",
   "language": "python",
   "name": "python3"
  },
  "language_info": {
   "codemirror_mode": {
    "name": "ipython",
    "version": 3
   },
   "file_extension": ".py",
   "mimetype": "text/x-python",
   "name": "python",
   "nbconvert_exporter": "python",
   "pygments_lexer": "ipython3",
   "version": "3.9.12"
  }
 },
 "nbformat": 4,
 "nbformat_minor": 5
}
